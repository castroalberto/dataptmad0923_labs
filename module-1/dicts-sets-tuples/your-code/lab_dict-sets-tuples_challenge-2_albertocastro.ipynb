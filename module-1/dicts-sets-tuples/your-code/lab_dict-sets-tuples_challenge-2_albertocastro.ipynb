{
 "cells": [
  {
   "cell_type": "markdown",
   "metadata": {},
   "source": [
    "## Challenge 2: Sets\n",
    "\n",
    "There are a lot to learn about Python Sets and the information presented in the lesson is limited due to its length. To learn Python Sets in depth you are strongly encouraged to review the W3Schools tutorial on [Python Sets Examples and Methods](https://www.w3schools.com/python/python_sets.asp) before you work on this lab. Some difficult questions in this lab have their solutions in the W3Schools tutorial.\n",
    "\n",
    "#### First, import the Python `random` library."
   ]
  },
  {
   "cell_type": "code",
   "execution_count": 1,
   "metadata": {},
   "outputs": [],
   "source": [
    "import random"
   ]
  },
  {
   "cell_type": "markdown",
   "metadata": {},
   "source": [
    "#### In the cell below, create a list named `sample_list_1` with 80 random values. \n",
    "\n",
    "Requirements:\n",
    "\n",
    "* Each value is an integer falling between 0 and 100.\n",
    "* Each value in the list is unique.\n",
    "\n",
    "Print `sample_list_1` to review its values\n",
    "\n",
    "*Hint: use `random.sample` ([reference](https://docs.python.org/3/library/random.html#random.sample)).*"
   ]
  },
  {
   "cell_type": "code",
   "execution_count": 2,
   "metadata": {},
   "outputs": [
    {
     "name": "stdout",
     "output_type": "stream",
     "text": [
      "[13, 87, 83, 22, 89, 97, 18, 25, 44, 15, 45, 21, 66, 98, 58, 27, 95, 4, 54, 84, 81, 64, 50, 41, 59, 61, 31, 20, 43, 39, 60, 62, 63, 47, 5, 49, 67, 40, 56, 23, 72, 85, 70, 6, 93, 24, 77, 53, 9, 57, 26, 69, 91, 28, 8, 2, 3, 35, 96, 52, 74, 80, 42, 51, 68, 12, 99, 7, 10, 55, 16, 29, 34, 92, 32, 33, 65, 71, 48, 46]\n"
     ]
    }
   ],
   "source": [
    "sample_list_1  = random.sample(range(101),80)\n",
    "print(sample_list_1)"
   ]
  },
  {
   "cell_type": "markdown",
   "metadata": {},
   "source": [
    "#### Convert `sample_list_1` to a set called `set1`. Print the length of the set. Is its length still 80?"
   ]
  },
  {
   "cell_type": "code",
   "execution_count": 3,
   "metadata": {},
   "outputs": [
    {
     "name": "stdout",
     "output_type": "stream",
     "text": [
      "80\n",
      "{2, 3, 4, 5, 6, 7, 8, 9, 10, 12, 13, 15, 16, 18, 20, 21, 22, 23, 24, 25, 26, 27, 28, 29, 31, 32, 33, 34, 35, 39, 40, 41, 42, 43, 44, 45, 46, 47, 48, 49, 50, 51, 52, 53, 54, 55, 56, 57, 58, 59, 60, 61, 62, 63, 64, 65, 66, 67, 68, 69, 70, 71, 72, 74, 77, 80, 81, 83, 84, 85, 87, 89, 91, 92, 93, 95, 96, 97, 98, 99}\n"
     ]
    }
   ],
   "source": [
    "set1= set(sample_list_1)\n",
    "\n",
    "print(len(set1))\n",
    "\n",
    "#La longitud es la misma, los valores no se repiren y se ordenan de menor a mayor aparententemente.\n",
    "\n",
    "print(set1)"
   ]
  },
  {
   "cell_type": "markdown",
   "metadata": {},
   "source": [
    "#### Create another list named `sample_list_2` with 80 random values.\n",
    "\n",
    "Requirements:\n",
    "\n",
    "* Each value is an integer falling between 0 and 100.\n",
    "* The values in the list don't have to be unique.\n",
    "\n",
    "*Hint: Use a FOR loop.*"
   ]
  },
  {
   "cell_type": "code",
   "execution_count": 4,
   "metadata": {},
   "outputs": [
    {
     "name": "stdout",
     "output_type": "stream",
     "text": [
      "[49, 89, 41, 89, 48, 67, 70, 19, 15, 53, 65, 18, 79, 26, 57, 32, 50, 97, 9, 17, 32, 76, 75, 92, 6, 60, 36, 22, 83, 65, 80, 38, 83, 82, 60, 41, 28, 13, 62, 61, 69, 41, 87, 50, 91, 73, 28, 56, 67, 19, 21, 25, 78, 32, 59, 88, 17, 1, 42, 17, 56, 36, 63, 29, 78, 87, 15, 43, 6, 40, 99, 35, 97, 19, 59, 40, 40, 15, 80, 44]\n"
     ]
    }
   ],
   "source": [
    "import random\n",
    "\n",
    "sample_list_2 = []\n",
    "\n",
    "for i in range(80):\n",
    "    valor = random.randrange(0, 101)\n",
    "    sample_list_2.append(valor)\n",
    "    \n",
    "print(sample_list_2)\n"
   ]
  },
  {
   "cell_type": "markdown",
   "metadata": {},
   "source": [
    "#### Convert `sample_list_2` to a set called `set2`. Print the length of the set. Is its length still 80?"
   ]
  },
  {
   "cell_type": "code",
   "execution_count": 5,
   "metadata": {},
   "outputs": [
    {
     "name": "stdout",
     "output_type": "stream",
     "text": [
      "53\n"
     ]
    }
   ],
   "source": [
    "set2 = set(sample_list_2)\n",
    "print(len(set2))\n",
    "\n",
    "#no, dado que elimina los duplicados"
   ]
  },
  {
   "cell_type": "markdown",
   "metadata": {},
   "source": [
    "#### Identify the elements present in `set1` but not in `set2`. Assign the elements to a new set named `set3`."
   ]
  },
  {
   "cell_type": "code",
   "execution_count": 6,
   "metadata": {},
   "outputs": [
    {
     "name": "stdout",
     "output_type": "stream",
     "text": [
      "{2, 3, 4, 5, 6, 7, 8, 9, 10, 12, 13, 15, 16, 18, 20, 21, 22, 23, 24, 25, 26, 27, 28, 29, 31, 32, 33, 34, 35, 39, 40, 41, 42, 43, 44, 45, 46, 47, 48, 49, 50, 51, 52, 53, 54, 55, 56, 57, 58, 59, 60, 61, 62, 63, 64, 65, 66, 67, 68, 69, 70, 71, 72, 74, 77, 80, 81, 83, 84, 85, 87, 89, 91, 92, 93, 95, 96, 97, 98, 99}\n",
      "\n",
      "{1, 6, 9, 13, 15, 17, 18, 19, 21, 22, 25, 26, 28, 29, 32, 35, 36, 38, 40, 41, 42, 43, 44, 48, 49, 50, 53, 56, 57, 59, 60, 61, 62, 63, 65, 67, 69, 70, 73, 75, 76, 78, 79, 80, 82, 83, 87, 88, 89, 91, 92, 97, 99}\n",
      "\n",
      "{2, 3, 4, 5, 7, 8, 10, 12, 16, 20, 23, 24, 27, 31, 33, 34, 39, 45, 46, 47, 51, 52, 54, 55, 58, 64, 66, 68, 71, 72, 74, 77, 81, 84, 85, 93, 95, 96, 98}\n"
     ]
    }
   ],
   "source": [
    "print(set1)\n",
    "print('')\n",
    "print(set2)\n",
    "print('')\n",
    "\n",
    "set3 = set1 - set2\n",
    "\n",
    "print(set3)\n"
   ]
  },
  {
   "cell_type": "markdown",
   "metadata": {},
   "source": [
    "#### Identify the elements present in `set2` but not in `set1`. Assign the elements to a new set named `set4`."
   ]
  },
  {
   "cell_type": "code",
   "execution_count": 7,
   "metadata": {},
   "outputs": [
    {
     "name": "stdout",
     "output_type": "stream",
     "text": [
      "{2, 3, 4, 5, 6, 7, 8, 9, 10, 12, 13, 15, 16, 18, 20, 21, 22, 23, 24, 25, 26, 27, 28, 29, 31, 32, 33, 34, 35, 39, 40, 41, 42, 43, 44, 45, 46, 47, 48, 49, 50, 51, 52, 53, 54, 55, 56, 57, 58, 59, 60, 61, 62, 63, 64, 65, 66, 67, 68, 69, 70, 71, 72, 74, 77, 80, 81, 83, 84, 85, 87, 89, 91, 92, 93, 95, 96, 97, 98, 99}\n",
      "\n",
      "{1, 6, 9, 13, 15, 17, 18, 19, 21, 22, 25, 26, 28, 29, 32, 35, 36, 38, 40, 41, 42, 43, 44, 48, 49, 50, 53, 56, 57, 59, 60, 61, 62, 63, 65, 67, 69, 70, 73, 75, 76, 78, 79, 80, 82, 83, 87, 88, 89, 91, 92, 97, 99}\n",
      "\n",
      "{1, 36, 38, 73, 75, 76, 78, 79, 17, 82, 19, 88}\n"
     ]
    }
   ],
   "source": [
    "print(set1)\n",
    "print('')\n",
    "print(set2)\n",
    "print('')\n",
    "\n",
    "set4 = set2 - set1\n",
    "\n",
    "print(set4)\n"
   ]
  },
  {
   "cell_type": "markdown",
   "metadata": {},
   "source": [
    "#### Now Identify the elements shared between `set1` and `set2`. Assign the elements to a new set named `set5`."
   ]
  },
  {
   "cell_type": "code",
   "execution_count": 8,
   "metadata": {},
   "outputs": [
    {
     "name": "stdout",
     "output_type": "stream",
     "text": [
      "{6, 9, 13, 15, 18, 21, 22, 25, 26, 28, 29, 32, 35, 40, 41, 42, 43, 44, 48, 49, 50, 53, 56, 57, 59, 60, 61, 62, 63, 65, 67, 69, 70, 80, 83, 87, 89, 91, 92, 97, 99}\n"
     ]
    }
   ],
   "source": [
    "set5 = set1 & set2\n",
    "print(set5)"
   ]
  },
  {
   "cell_type": "markdown",
   "metadata": {},
   "source": [
    "#### What is the relationship among the following values:\n",
    "\n",
    "* len(set1)\n",
    "* len(set2)\n",
    "* len(set3)\n",
    "* len(set4)\n",
    "* len(set5)\n",
    "\n",
    "Use a math formular to represent that relationship. Test your formular with Python code."
   ]
  },
  {
   "cell_type": "code",
   "execution_count": 9,
   "metadata": {},
   "outputs": [
    {
     "name": "stdout",
     "output_type": "stream",
     "text": [
      "80\n",
      "53\n",
      "39\n",
      "12\n",
      "41\n",
      "True\n",
      "True\n"
     ]
    }
   ],
   "source": [
    "print(len(set1))\n",
    "print(len(set2))\n",
    "print(len(set3))\n",
    "print(len(set4))\n",
    "print(len(set5))\n",
    "\n",
    "len_set1 = len(set1)\n",
    "len_set2 = len(set2)\n",
    "len_set3 = len(set3)\n",
    "len_set4 = len(set4)\n",
    "len_set5 = len(set5)\n",
    "\n",
    "print(len_set1 == len_set3 + len_set5)\n",
    "print(len_set2 == len_set4 + len_set5)\n",
    "\n",
    "\n"
   ]
  },
  {
   "cell_type": "markdown",
   "metadata": {},
   "source": [
    "#### Create an empty set called `set6`."
   ]
  },
  {
   "cell_type": "code",
   "execution_count": 10,
   "metadata": {},
   "outputs": [
    {
     "name": "stdout",
     "output_type": "stream",
     "text": [
      "<class 'tuple'>\n",
      "<class 'set'>\n"
     ]
    },
    {
     "data": {
      "text/plain": [
       "set()"
      ]
     },
     "execution_count": 10,
     "metadata": {},
     "output_type": "execute_result"
    }
   ],
   "source": [
    "set6 = ()\n",
    "print(type(set6))\n",
    "\n",
    "set6= set()\n",
    "print(type(set6))\n",
    "\n",
    "set6"
   ]
  },
  {
   "cell_type": "markdown",
   "metadata": {},
   "source": [
    "#### Add `set3` and `set5` to `set6` using the Python Set `update` method."
   ]
  },
  {
   "cell_type": "code",
   "execution_count": 11,
   "metadata": {},
   "outputs": [
    {
     "name": "stdout",
     "output_type": "stream",
     "text": [
      "{2, 3, 4, 5, 6, 7, 8, 9, 10, 12, 13, 15, 16, 18, 20, 21, 22, 23, 24, 25, 26, 27, 28, 29, 31, 32, 33, 34, 35, 39, 40, 41, 42, 43, 44, 45, 46, 47, 48, 49, 50, 51, 52, 53, 54, 55, 56, 57, 58, 59, 60, 61, 62, 63, 64, 65, 66, 67, 68, 69, 70, 71, 72, 74, 77, 80, 81, 83, 84, 85, 87, 89, 91, 92, 93, 95, 96, 97, 98, 99}\n"
     ]
    }
   ],
   "source": [
    "set6.update(set3)\n",
    "set6.update(set5)\n",
    "\n",
    "print(set6)"
   ]
  },
  {
   "cell_type": "markdown",
   "metadata": {},
   "source": [
    "#### Check if `set1` and `set6` are equal."
   ]
  },
  {
   "cell_type": "code",
   "execution_count": 12,
   "metadata": {},
   "outputs": [
    {
     "data": {
      "text/plain": [
       "True"
      ]
     },
     "execution_count": 12,
     "metadata": {},
     "output_type": "execute_result"
    }
   ],
   "source": [
    "set1 == set6"
   ]
  },
  {
   "cell_type": "markdown",
   "metadata": {},
   "source": [
    "#### Check if `set1` contains `set2` using the Python Set `issubset` method. Then check if `set1` contains `set3`.*"
   ]
  },
  {
   "cell_type": "code",
   "execution_count": 13,
   "metadata": {},
   "outputs": [
    {
     "name": "stdout",
     "output_type": "stream",
     "text": [
      "False\n",
      "True\n"
     ]
    }
   ],
   "source": [
    "\n",
    "print(set1.issubset(set2))\n",
    "\n",
    "print(set1.issuperset(set3))\n"
   ]
  },
  {
   "cell_type": "markdown",
   "metadata": {},
   "source": [
    "#### Using the Python Set `union` method, aggregate `set3`, `set4`, and `set5`. Then aggregate `set1` and `set2`. \n",
    "\n",
    "#### Check if the aggregated values are equal."
   ]
  },
  {
   "cell_type": "code",
   "execution_count": 14,
   "metadata": {},
   "outputs": [
    {
     "name": "stdout",
     "output_type": "stream",
     "text": [
      "True\n"
     ]
    }
   ],
   "source": [
    "aggregate_set1 = set3.union(set4, set5)\n",
    "\n",
    "aggregate_set2 = set1.union(set2)\n",
    "\n",
    "print(aggregate_set1 == aggregate_set2)\n"
   ]
  },
  {
   "cell_type": "markdown",
   "metadata": {},
   "source": [
    "#### Using the `pop` method, remove the first element from `set1`."
   ]
  },
  {
   "cell_type": "code",
   "execution_count": 15,
   "metadata": {},
   "outputs": [
    {
     "name": "stdout",
     "output_type": "stream",
     "text": [
      "{2, 3, 4, 5, 6, 7, 8, 9, 10, 12, 13, 15, 16, 18, 20, 21, 22, 23, 24, 25, 26, 27, 28, 29, 31, 32, 33, 34, 35, 39, 40, 41, 42, 43, 44, 45, 46, 47, 48, 49, 50, 51, 52, 53, 54, 55, 56, 57, 58, 59, 60, 61, 62, 63, 64, 65, 66, 67, 68, 69, 70, 71, 72, 74, 77, 80, 81, 83, 84, 85, 87, 89, 91, 92, 93, 95, 96, 97, 98, 99}\n",
      "2\n",
      "{3, 4, 5, 6, 7, 8, 9, 10, 12, 13, 15, 16, 18, 20, 21, 22, 23, 24, 25, 26, 27, 28, 29, 31, 32, 33, 34, 35, 39, 40, 41, 42, 43, 44, 45, 46, 47, 48, 49, 50, 51, 52, 53, 54, 55, 56, 57, 58, 59, 60, 61, 62, 63, 64, 65, 66, 67, 68, 69, 70, 71, 72, 74, 77, 80, 81, 83, 84, 85, 87, 89, 91, 92, 93, 95, 96, 97, 98, 99}\n"
     ]
    }
   ],
   "source": [
    "print(set1)\n",
    "set1_pop = set1.pop()\n",
    "print(set1_pop)\n",
    "print(set1)"
   ]
  },
  {
   "cell_type": "markdown",
   "metadata": {},
   "source": [
    "#### Remove every element in the following list from `set1` if they are present in the set. Print the remaining elements.\n",
    "\n",
    "```\n",
    "list_to_remove = [1, 9, 11, 19, 21, 29, 31, 39, 41, 49, 51, 59, 61, 69, 71, 79, 81, 89, 91, 99]\n",
    "```"
   ]
  },
  {
   "cell_type": "code",
   "execution_count": 16,
   "metadata": {},
   "outputs": [
    {
     "name": "stdout",
     "output_type": "stream",
     "text": [
      "{3, 4, 5, 6, 7, 8, 9, 10, 12, 13, 15, 16, 18, 20, 21, 22, 23, 24, 25, 26, 27, 28, 29, 31, 32, 33, 34, 35, 39, 40, 41, 42, 43, 44, 45, 46, 47, 48, 49, 50, 51, 52, 53, 54, 55, 56, 57, 58, 59, 60, 61, 62, 63, 64, 65, 66, 67, 68, 69, 70, 71, 72, 74, 77, 80, 81, 83, 84, 85, 87, 89, 91, 92, 93, 95, 96, 97, 98, 99}\n",
      "\n",
      "{3, 4, 5, 6, 7, 8, 10, 12, 13, 15, 16, 18, 20, 22, 23, 24, 25, 26, 27, 28, 32, 33, 34, 35, 40, 42, 43, 44, 45, 46, 47, 48, 50, 52, 53, 54, 55, 56, 57, 58, 60, 62, 63, 64, 65, 66, 67, 68, 70, 72, 74, 77, 80, 83, 84, 85, 87, 92, 93, 95, 96, 97, 98}\n"
     ]
    }
   ],
   "source": [
    "print(set1)\n",
    "print('')\n",
    "\n",
    "list_to_remove = [1, 9, 11, 19, 21, 29, 31, 39, 41, 49, 51, 59, 61, 69, 71, 79, 81, 89, 91, 99]\n",
    "\n",
    "for element in list_to_remove:\n",
    "    set1.discard(element)\n",
    "    \n",
    "print(set1)"
   ]
  }
 ],
 "metadata": {
  "kernelspec": {
   "display_name": "Python 3 (ipykernel)",
   "language": "python",
   "name": "python3"
  },
  "language_info": {
   "codemirror_mode": {
    "name": "ipython",
    "version": 3
   },
   "file_extension": ".py",
   "mimetype": "text/x-python",
   "name": "python",
   "nbconvert_exporter": "python",
   "pygments_lexer": "ipython3",
   "version": "3.9.18"
  }
 },
 "nbformat": 4,
 "nbformat_minor": 2
}
