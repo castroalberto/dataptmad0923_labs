{
 "cells": [
  {
   "cell_type": "markdown",
   "metadata": {},
   "source": [
    "# Introduction to NumPy\n",
    "\n",
    "\n",
    "#### 1. Import NumPy under the name np."
   ]
  },
  {
   "cell_type": "code",
   "execution_count": 40,
   "metadata": {},
   "outputs": [],
   "source": [
    "import numpy as np"
   ]
  },
  {
   "cell_type": "markdown",
   "metadata": {},
   "source": [
    "#### 2. Print your NumPy version."
   ]
  },
  {
   "cell_type": "code",
   "execution_count": 41,
   "metadata": {},
   "outputs": [
    {
     "name": "stdout",
     "output_type": "stream",
     "text": [
      "1.26.0\n"
     ]
    }
   ],
   "source": [
    "print(np.__version__)"
   ]
  },
  {
   "cell_type": "markdown",
   "metadata": {},
   "source": [
    "#### 3. Generate a 2x3x5 3-dimensional array with random values. Assign the array to variable *a*.\n",
    "**Challenge**: there are at least three easy ways that use numpy to generate random arrays. How many ways can you find?"
   ]
  },
  {
   "cell_type": "code",
   "execution_count": 42,
   "metadata": {},
   "outputs": [
    {
     "data": {
      "text/plain": [
       "array([[[0.27658371, 0.70702952, 0.97327163, 0.17191652, 0.15785267],\n",
       "        [0.67616531, 0.11760705, 0.79813276, 0.90593865, 0.93709524],\n",
       "        [0.79416891, 0.57825711, 0.74903164, 0.38860373, 0.91221986]],\n",
       "\n",
       "       [[0.27072118, 0.88827896, 0.13539263, 0.10861557, 0.28848315],\n",
       "        [0.26178382, 0.15358967, 0.00600943, 0.23527405, 0.57162698],\n",
       "        [0.97676521, 0.2481663 , 0.92474171, 0.45833145, 0.63732974]]])"
      ]
     },
     "execution_count": 42,
     "metadata": {},
     "output_type": "execute_result"
    }
   ],
   "source": [
    "a = np.random.rand(2, 3, 5)\n",
    "a"
   ]
  },
  {
   "cell_type": "code",
   "execution_count": 43,
   "metadata": {},
   "outputs": [
    {
     "data": {
      "text/plain": [
       "array([[[-0.42555833, -0.82612958, -0.13930712,  0.18606935,\n",
       "         -1.96882881],\n",
       "        [ 1.92233661, -0.30421818, -1.28289289,  0.31240151,\n",
       "         -0.21876354],\n",
       "        [ 1.54768965,  0.10688022, -0.58931214,  1.04532164,\n",
       "          1.01697923]],\n",
       "\n",
       "       [[ 1.64128855,  1.40287549,  1.13776807,  1.27622703,\n",
       "          0.5820679 ],\n",
       "        [-0.78871366,  0.5261518 ,  0.04662433, -0.12301385,\n",
       "          0.91493806],\n",
       "        [-1.10704705,  0.91717879,  0.63944442,  0.01741908,\n",
       "         -0.89534484]]])"
      ]
     },
     "execution_count": 43,
     "metadata": {},
     "output_type": "execute_result"
    }
   ],
   "source": [
    "a = np.random.randn(2, 3, 5)\n",
    "a"
   ]
  },
  {
   "cell_type": "code",
   "execution_count": 44,
   "metadata": {},
   "outputs": [
    {
     "data": {
      "text/plain": [
       "array([[[0.2586752 , 0.26788384, 0.42172674, 0.34653724, 0.18306585],\n",
       "        [0.36208698, 0.96917854, 0.8947385 , 0.7525728 , 0.96630869],\n",
       "        [0.53153149, 0.90170435, 0.80391227, 0.36869962, 0.62539135]],\n",
       "\n",
       "       [[0.83652572, 0.73909456, 0.03970131, 0.48765032, 0.85005719],\n",
       "        [0.99685994, 0.11384123, 0.8053791 , 0.05445668, 0.75151151],\n",
       "        [0.38307965, 0.06902378, 0.91255632, 0.68092175, 0.81322458]]])"
      ]
     },
     "execution_count": 44,
     "metadata": {},
     "output_type": "execute_result"
    }
   ],
   "source": [
    "a = np.random.uniform(0, 1, (2, 3, 5))\n",
    "a"
   ]
  },
  {
   "cell_type": "markdown",
   "metadata": {},
   "source": [
    "#### 4. Print *a*.\n"
   ]
  },
  {
   "cell_type": "code",
   "execution_count": 45,
   "metadata": {},
   "outputs": [
    {
     "name": "stdout",
     "output_type": "stream",
     "text": [
      "[[[0.2586752  0.26788384 0.42172674 0.34653724 0.18306585]\n",
      "  [0.36208698 0.96917854 0.8947385  0.7525728  0.96630869]\n",
      "  [0.53153149 0.90170435 0.80391227 0.36869962 0.62539135]]\n",
      "\n",
      " [[0.83652572 0.73909456 0.03970131 0.48765032 0.85005719]\n",
      "  [0.99685994 0.11384123 0.8053791  0.05445668 0.75151151]\n",
      "  [0.38307965 0.06902378 0.91255632 0.68092175 0.81322458]]]\n"
     ]
    }
   ],
   "source": [
    "print(a)"
   ]
  },
  {
   "cell_type": "markdown",
   "metadata": {},
   "source": [
    "#### 5. Create a 5x2x3 3-dimensional array with all values equaling 1. Assign the array to variable *b*."
   ]
  },
  {
   "cell_type": "code",
   "execution_count": 46,
   "metadata": {},
   "outputs": [],
   "source": [
    "b = np.ones((5, 2, 3))"
   ]
  },
  {
   "cell_type": "markdown",
   "metadata": {},
   "source": [
    "#### 6. Print *b*.\n"
   ]
  },
  {
   "cell_type": "code",
   "execution_count": 47,
   "metadata": {},
   "outputs": [
    {
     "name": "stdout",
     "output_type": "stream",
     "text": [
      "[[[1. 1. 1.]\n",
      "  [1. 1. 1.]]\n",
      "\n",
      " [[1. 1. 1.]\n",
      "  [1. 1. 1.]]\n",
      "\n",
      " [[1. 1. 1.]\n",
      "  [1. 1. 1.]]\n",
      "\n",
      " [[1. 1. 1.]\n",
      "  [1. 1. 1.]]\n",
      "\n",
      " [[1. 1. 1.]\n",
      "  [1. 1. 1.]]]\n"
     ]
    }
   ],
   "source": [
    "print(b)"
   ]
  },
  {
   "cell_type": "markdown",
   "metadata": {},
   "source": [
    "#### 7. Do *a* and *b* have the same size? How do you prove that in Python code?"
   ]
  },
  {
   "cell_type": "code",
   "execution_count": 48,
   "metadata": {},
   "outputs": [
    {
     "name": "stdout",
     "output_type": "stream",
     "text": [
      "30\n",
      "30\n",
      "True\n"
     ]
    }
   ],
   "source": [
    "print(a.size)\n",
    "print(b.size)\n",
    "\n",
    "print(a.size == b.size)"
   ]
  },
  {
   "cell_type": "markdown",
   "metadata": {},
   "source": [
    "#### 8. Are you able to add *a* and *b*? Why or why not?\n"
   ]
  },
  {
   "cell_type": "code",
   "execution_count": 49,
   "metadata": {},
   "outputs": [
    {
     "name": "stdout",
     "output_type": "stream",
     "text": [
      "(2, 3, 5)\n",
      "(5, 2, 3)\n",
      "False\n"
     ]
    }
   ],
   "source": [
    "print(a.shape)\n",
    "print(b.shape)\n",
    "print(a.shape == b.shape)\n",
    "\n",
    "#No se pueden anadir porque tienen diferente forma como se aprecia en los prints"
   ]
  },
  {
   "cell_type": "markdown",
   "metadata": {},
   "source": [
    "#### 9. Transpose *b* so that it has the same structure of *a* (i.e. become a 2x3x5 array). Assign the transposed array to variable *c*."
   ]
  },
  {
   "cell_type": "code",
   "execution_count": 50,
   "metadata": {},
   "outputs": [
    {
     "name": "stdout",
     "output_type": "stream",
     "text": [
      "(2, 3, 5)\n",
      "(2, 3, 5)\n"
     ]
    }
   ],
   "source": [
    "c = np.transpose(b, (1, 2, 0))\n",
    "\n",
    "print(c.shape)\n",
    "print(a.shape)"
   ]
  },
  {
   "cell_type": "markdown",
   "metadata": {},
   "source": [
    "#### 10. Try to add *a* and *c*. Now it should work. Assign the sum to variable *d*. But why does it work now?"
   ]
  },
  {
   "cell_type": "code",
   "execution_count": 51,
   "metadata": {},
   "outputs": [],
   "source": [
    "d = a + c\n",
    "#tienen la misma shape, por eso ahora deja anadirlos"
   ]
  },
  {
   "cell_type": "markdown",
   "metadata": {},
   "source": [
    "#### 11. Print *a* and *d*. Notice the difference and relation of the two array in terms of the values? Explain."
   ]
  },
  {
   "cell_type": "code",
   "execution_count": 52,
   "metadata": {},
   "outputs": [
    {
     "name": "stdout",
     "output_type": "stream",
     "text": [
      "[[[1.2586752  1.26788384 1.42172674 1.34653724 1.18306585]\n",
      "  [1.36208698 1.96917854 1.8947385  1.7525728  1.96630869]\n",
      "  [1.53153149 1.90170435 1.80391227 1.36869962 1.62539135]]\n",
      "\n",
      " [[1.83652572 1.73909456 1.03970131 1.48765032 1.85005719]\n",
      "  [1.99685994 1.11384123 1.8053791  1.05445668 1.75151151]\n",
      "  [1.38307965 1.06902378 1.91255632 1.68092175 1.81322458]]]\n"
     ]
    }
   ],
   "source": [
    "print(d)"
   ]
  },
  {
   "cell_type": "markdown",
   "metadata": {},
   "source": [
    "#### 12. Multiply *a* and *c*. Assign the result to *e*."
   ]
  },
  {
   "cell_type": "code",
   "execution_count": 53,
   "metadata": {},
   "outputs": [
    {
     "name": "stdout",
     "output_type": "stream",
     "text": [
      "[[[0.2586752  0.26788384 0.42172674 0.34653724 0.18306585]\n",
      "  [0.36208698 0.96917854 0.8947385  0.7525728  0.96630869]\n",
      "  [0.53153149 0.90170435 0.80391227 0.36869962 0.62539135]]\n",
      "\n",
      " [[0.83652572 0.73909456 0.03970131 0.48765032 0.85005719]\n",
      "  [0.99685994 0.11384123 0.8053791  0.05445668 0.75151151]\n",
      "  [0.38307965 0.06902378 0.91255632 0.68092175 0.81322458]]]\n"
     ]
    }
   ],
   "source": [
    "e  = a * c\n",
    "print(e)"
   ]
  },
  {
   "cell_type": "markdown",
   "metadata": {},
   "source": [
    "#### 13. Does *e* equal to *a*? Why or why not?\n"
   ]
  },
  {
   "cell_type": "code",
   "execution_count": 54,
   "metadata": {},
   "outputs": [
    {
     "name": "stdout",
     "output_type": "stream",
     "text": [
      "[[[ True  True  True  True  True]\n",
      "  [ True  True  True  True  True]\n",
      "  [ True  True  True  True  True]]\n",
      "\n",
      " [[ True  True  True  True  True]\n",
      "  [ True  True  True  True  True]\n",
      "  [ True  True  True  True  True]]]\n"
     ]
    }
   ],
   "source": [
    "print(e == a)"
   ]
  },
  {
   "cell_type": "markdown",
   "metadata": {},
   "source": [
    "#### 14. Identify the max, min, and mean values in *d*. Assign those values to variables *d_max*, *d_min* and *d_mean*."
   ]
  },
  {
   "cell_type": "code",
   "execution_count": 55,
   "metadata": {},
   "outputs": [
    {
     "name": "stdout",
     "output_type": "stream",
     "text": [
      "1.9968599399658862\n",
      "1.0397013143947946\n",
      "1.572929904157076\n"
     ]
    }
   ],
   "source": [
    "d_max = np.max(d)\n",
    "d_min = np.min(d)\n",
    "d_mean = np.mean(d)\n",
    "\n",
    "print(d_max)\n",
    "print(d_min)\n",
    "print(d_mean)"
   ]
  },
  {
   "cell_type": "markdown",
   "metadata": {},
   "source": [
    "#### 15. Now we want to label the values in *d*. First create an empty array *f* with the same shape (i.e. 2x3x5) as *d* using `np.empty`.\n"
   ]
  },
  {
   "cell_type": "code",
   "execution_count": 56,
   "metadata": {},
   "outputs": [
    {
     "name": "stdout",
     "output_type": "stream",
     "text": [
      "[[[0. 0. 0. 0. 0.]\n",
      "  [0. 0. 0. 0. 0.]\n",
      "  [0. 0. 0. 0. 0.]]\n",
      "\n",
      " [[0. 0. 0. 0. 0.]\n",
      "  [0. 0. 0. 0. 0.]\n",
      "  [0. 0. 0. 0. 0.]]]\n"
     ]
    }
   ],
   "source": [
    "f = np.zeros_like(d)\n",
    "print(f)"
   ]
  },
  {
   "cell_type": "markdown",
   "metadata": {},
   "source": [
    "#### 16. Populate the values in *f*. \n",
    "\n",
    "For each value in *d*, if it's larger than *d_min* but smaller than *d_mean*, assign 25 to the corresponding value in *f*. If a value in *d* is larger than *d_mean* but smaller than *d_max*, assign 75 to the corresponding value in *f*. If a value equals to *d_mean*, assign 50 to the corresponding value in *f*. Assign 0 to the corresponding value(s) in *f* for *d_min* in *d*. Assign 100 to the corresponding value(s) in *f* for *d_max* in *d*. In the end, f should have only the following values: 0, 25, 50, 75, and 100.\n",
    "\n",
    "**Note**: you don't have to use Numpy in this question."
   ]
  },
  {
   "cell_type": "code",
   "execution_count": 57,
   "metadata": {},
   "outputs": [
    {
     "name": "stdout",
     "output_type": "stream",
     "text": [
      "[[[ 25.  25.  25.  25.  25.]\n",
      "  [ 25.  75.  75.  75.  75.]\n",
      "  [ 25.  75.  75.  25.  75.]]\n",
      "\n",
      " [[ 75.  75.   0.  25.  75.]\n",
      "  [100.  25.  75.  25.  75.]\n",
      "  [ 25.  25.  75.  75.  75.]]]\n"
     ]
    }
   ],
   "source": [
    "f[(d > d_min) & (d < d_mean)] = 25\n",
    "f[(d > d_mean) & (d < d_max)] = 75\n",
    "f[d == d_mean] = 50\n",
    "f[d == d_min] = 0\n",
    "f[d == d_max] = 100\n",
    "\n",
    "print(f)"
   ]
  },
  {
   "cell_type": "markdown",
   "metadata": {},
   "source": [
    "#### 17. Print *d* and *f*. Do you have your expected *f*?\n",
    "For instance, if your *d* is:\n",
    "```python\n",
    "[[[1.85836099, 1.67064465, 1.62576044, 1.40243961, 1.88454931],\n",
    "[1.75354326, 1.69403643, 1.36729252, 1.61415071, 1.12104981],\n",
    "[1.72201435, 1.1862918 , 1.87078449, 1.7726778 , 1.88180042]],\n",
    "[[1.44747908, 1.31673383, 1.02000951, 1.52218947, 1.97066381],\n",
    "[1.79129243, 1.74983003, 1.96028037, 1.85166831, 1.65450881],\n",
    "[1.18068344, 1.9587381 , 1.00656599, 1.93402165, 1.73514584]]]\n",
    "```\n",
    "Your *f* should be:\n",
    "```python\n",
    "[[[ 75.,  75.,  75.,  25.,  75.],\n",
    "[ 75.,  75.,  25.,  25.,  25.],\n",
    "[ 75.,  25.,  75.,  75.,  75.]],\n",
    "[[ 25.,  25.,  25.,  25., 100.],\n",
    "[ 75.,  75.,  75.,  75.,  75.],\n",
    "[ 25.,  75.,   0.,  75.,  75.]]]\n",
    "```"
   ]
  },
  {
   "cell_type": "markdown",
   "metadata": {},
   "source": [
    "#### 18. Bonus question: instead of using numbers (i.e. 0, 25, 50, 75, and 100), use string values  (\"A\", \"B\", \"C\", \"D\", and \"E\") to label the array elements. For the example above, the expected result is:\n",
    "\n",
    "```python\n",
    "[[[ 'D',  'D',  'D',  'B',  'D'],\n",
    "[ 'D',  'D',  'B',  'B',  'B'],\n",
    "[ 'D',  'B',  'D',  'D',  'D']],\n",
    "[[ 'B',  'B',  'B',  'B',  'E'],\n",
    "[ 'D',  'D',  'D',  'D',  'D'],\n",
    "[ 'B',  'D',   'A',  'D', 'D']]]\n",
    "```\n",
    "**Note**: you don't have to use Numpy in this question."
   ]
  },
  {
   "cell_type": "code",
   "execution_count": 59,
   "metadata": {},
   "outputs": [],
   "source": [
    "### PRACTICA IGNORAR TODAS LAS LINEAS DE CODIGO DE ABAJO"
   ]
  },
  {
   "cell_type": "code",
   "execution_count": 60,
   "metadata": {},
   "outputs": [],
   "source": [
    "a = np.random.random((10,4))"
   ]
  },
  {
   "cell_type": "code",
   "execution_count": 61,
   "metadata": {},
   "outputs": [
    {
     "name": "stdout",
     "output_type": "stream",
     "text": [
      "(10, 4)\n"
     ]
    }
   ],
   "source": [
    "print(a.shape)"
   ]
  },
  {
   "cell_type": "code",
   "execution_count": 62,
   "metadata": {},
   "outputs": [
    {
     "name": "stdout",
     "output_type": "stream",
     "text": [
      "[[0.8732176  0.64212738 0.21339089 0.50962983]\n",
      " [0.81483926 0.5864567  0.86723545 0.84552074]\n",
      " [0.05842025 0.08645224 0.5601141  0.59399146]\n",
      " [0.49534822 0.40624306 0.29094794 0.43451576]\n",
      " [0.85322014 0.28883033 0.46983333 0.62024358]\n",
      " [0.45144152 0.94527706 0.10020028 0.84102253]\n",
      " [0.54331913 0.9420041  0.63995307 0.07235416]\n",
      " [0.43160272 0.62821737 0.41418448 0.57770545]\n",
      " [0.63999325 0.95349858 0.98762257 0.67005497]\n",
      " [0.39396905 0.37271449 0.51264968 0.21250731]]\n"
     ]
    }
   ],
   "source": [
    "print(a)"
   ]
  },
  {
   "cell_type": "code",
   "execution_count": 63,
   "metadata": {},
   "outputs": [
    {
     "name": "stdout",
     "output_type": "stream",
     "text": [
      "[[0.63999325 0.95349858 0.98762257 0.67005497]\n",
      " [0.39396905 0.37271449 0.51264968 0.21250731]]\n"
     ]
    }
   ],
   "source": [
    "print(a[-2:])"
   ]
  },
  {
   "cell_type": "code",
   "execution_count": 64,
   "metadata": {},
   "outputs": [
    {
     "name": "stdout",
     "output_type": "stream",
     "text": [
      "[0.8732176  0.81483926 0.05842025 0.49534822 0.85322014 0.45144152\n",
      " 0.54331913 0.43160272 0.63999325 0.39396905]\n"
     ]
    }
   ],
   "source": [
    "print(a[:,0])"
   ]
  },
  {
   "cell_type": "code",
   "execution_count": 65,
   "metadata": {},
   "outputs": [
    {
     "name": "stdout",
     "output_type": "stream",
     "text": [
      "0.2133908868079748\n"
     ]
    }
   ],
   "source": [
    "print(a[0,2])"
   ]
  },
  {
   "cell_type": "code",
   "execution_count": 66,
   "metadata": {},
   "outputs": [
    {
     "name": "stdout",
     "output_type": "stream",
     "text": [
      "[[[[0.98915838 0.26162513 0.00759071 0.48983111 0.42296261]\n",
      "   [0.89878324 0.50533309 0.87097995 0.24588103 0.96321985]\n",
      "   [0.20028868 0.54025604 0.16218254 0.8911127  0.27108996]\n",
      "   [0.88254218 0.09367769 0.0855082  0.62062699 0.51158024]]\n",
      "\n",
      "  [[0.77713239 0.58820213 0.74388916 0.28099782 0.62128391]\n",
      "   [0.44726673 0.21881149 0.0212927  0.01001713 0.74720056]\n",
      "   [0.23619548 0.26932283 0.20771769 0.69322794 0.22881816]\n",
      "   [0.85215011 0.08895117 0.82212329 0.60051206 0.70085218]]\n",
      "\n",
      "  [[0.76409813 0.3675335  0.54671328 0.39021396 0.48317295]\n",
      "   [0.39131694 0.06246132 0.99104035 0.21829526 0.39192366]\n",
      "   [0.47881022 0.65479426 0.41654027 0.20750845 0.80165739]\n",
      "   [0.59392357 0.21305749 0.73883454 0.77750225 0.811921  ]]]\n",
      "\n",
      "\n",
      " [[[0.62355507 0.91131946 0.50935413 0.45415863 0.35725907]\n",
      "   [0.3133933  0.31541503 0.72772443 0.29734384 0.93251764]\n",
      "   [0.88157816 0.73201448 0.70083983 0.39088035 0.17475944]\n",
      "   [0.12149818 0.09670479 0.29175219 0.6117793  0.20929473]]\n",
      "\n",
      "  [[0.0345131  0.26922851 0.89446503 0.39168184 0.4715659 ]\n",
      "   [0.86303379 0.15832517 0.27012398 0.96494158 0.32690109]\n",
      "   [0.73046394 0.89631822 0.61921011 0.85543595 0.77140778]\n",
      "   [0.50611158 0.27008339 0.64275098 0.94231627 0.98698006]]\n",
      "\n",
      "  [[0.17257432 0.8040261  0.54623768 0.92077472 0.04213114]\n",
      "   [0.3144635  0.64035996 0.21757145 0.4566465  0.70871061]\n",
      "   [0.32771677 0.23399297 0.55692822 0.61531734 0.38933445]\n",
      "   [0.37833939 0.4303834  0.21937137 0.31940701 0.51559633]]]]\n"
     ]
    }
   ],
   "source": [
    "c = np.random.random((2,3,4,5))\n",
    "print(c)"
   ]
  },
  {
   "cell_type": "code",
   "execution_count": 67,
   "metadata": {},
   "outputs": [
    {
     "name": "stdout",
     "output_type": "stream",
     "text": [
      "[[0.77713239 0.58820213 0.74388916 0.28099782 0.62128391]\n",
      " [0.44726673 0.21881149 0.0212927  0.01001713 0.74720056]\n",
      " [0.23619548 0.26932283 0.20771769 0.69322794 0.22881816]\n",
      " [0.85215011 0.08895117 0.82212329 0.60051206 0.70085218]]\n"
     ]
    }
   ],
   "source": [
    "print(c[0,1])"
   ]
  },
  {
   "cell_type": "code",
   "execution_count": 68,
   "metadata": {},
   "outputs": [
    {
     "name": "stdout",
     "output_type": "stream",
     "text": [
      "[0.28099782 0.01001713 0.69322794 0.60051206]\n"
     ]
    }
   ],
   "source": [
    "print(c[0,1,:,3])"
   ]
  },
  {
   "cell_type": "code",
   "execution_count": 69,
   "metadata": {},
   "outputs": [
    {
     "name": "stdout",
     "output_type": "stream",
     "text": [
      "0.6932279396638598\n"
     ]
    }
   ],
   "source": [
    "print(c[0,1,2,3])"
   ]
  },
  {
   "cell_type": "code",
   "execution_count": 70,
   "metadata": {},
   "outputs": [
    {
     "name": "stdout",
     "output_type": "stream",
     "text": [
      "[2.31274471 1.16528761 1.79502284 1.58475495 2.29815482]\n"
     ]
    }
   ],
   "source": [
    "print(np.sum(c[0,1], axis=0))"
   ]
  },
  {
   "cell_type": "code",
   "execution_count": 71,
   "metadata": {},
   "outputs": [
    {
     "name": "stdout",
     "output_type": "stream",
     "text": [
      "12.0\n"
     ]
    }
   ],
   "source": [
    "print(np.sum(b[:2]))"
   ]
  },
  {
   "cell_type": "code",
   "execution_count": 72,
   "metadata": {},
   "outputs": [
    {
     "name": "stdout",
     "output_type": "stream",
     "text": [
      "[[[1. 1. 1.]\n",
      "  [1. 1. 1.]]\n",
      "\n",
      " [[1. 1. 1.]\n",
      "  [1. 1. 1.]]\n",
      "\n",
      " [[1. 1. 1.]\n",
      "  [1. 1. 1.]]\n",
      "\n",
      " [[1. 1. 1.]\n",
      "  [1. 1. 1.]]\n",
      "\n",
      " [[1. 1. 1.]\n",
      "  [1. 1. 1.]]]\n"
     ]
    }
   ],
   "source": [
    "print(b)"
   ]
  },
  {
   "cell_type": "code",
   "execution_count": null,
   "metadata": {},
   "outputs": [],
   "source": []
  },
  {
   "cell_type": "code",
   "execution_count": null,
   "metadata": {},
   "outputs": [],
   "source": []
  },
  {
   "cell_type": "code",
   "execution_count": null,
   "metadata": {},
   "outputs": [],
   "source": []
  },
  {
   "cell_type": "code",
   "execution_count": null,
   "metadata": {},
   "outputs": [],
   "source": []
  },
  {
   "cell_type": "code",
   "execution_count": null,
   "metadata": {},
   "outputs": [],
   "source": []
  },
  {
   "cell_type": "code",
   "execution_count": null,
   "metadata": {},
   "outputs": [],
   "source": []
  },
  {
   "cell_type": "code",
   "execution_count": null,
   "metadata": {},
   "outputs": [],
   "source": []
  },
  {
   "cell_type": "code",
   "execution_count": null,
   "metadata": {},
   "outputs": [],
   "source": []
  },
  {
   "cell_type": "code",
   "execution_count": null,
   "metadata": {},
   "outputs": [],
   "source": []
  },
  {
   "cell_type": "code",
   "execution_count": null,
   "metadata": {},
   "outputs": [],
   "source": []
  }
 ],
 "metadata": {
  "kernelspec": {
   "display_name": "Python (m1_env)",
   "language": "python",
   "name": "m1_env"
  },
  "language_info": {
   "codemirror_mode": {
    "name": "ipython",
    "version": 3
   },
   "file_extension": ".py",
   "mimetype": "text/x-python",
   "name": "python",
   "nbconvert_exporter": "python",
   "pygments_lexer": "ipython3",
   "version": "3.10.13"
  }
 },
 "nbformat": 4,
 "nbformat_minor": 2
}
