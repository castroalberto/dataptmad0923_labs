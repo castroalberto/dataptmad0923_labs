{
 "cells": [
  {
   "cell_type": "markdown",
   "metadata": {},
   "source": [
    "# Introduction to NumPy\n",
    "\n",
    "\n",
    "#### 1. Import NumPy under the name np."
   ]
  },
  {
   "cell_type": "code",
   "execution_count": 1,
   "metadata": {},
   "outputs": [],
   "source": [
    "import numpy as np"
   ]
  },
  {
   "cell_type": "markdown",
   "metadata": {},
   "source": [
    "#### 2. Print your NumPy version."
   ]
  },
  {
   "cell_type": "code",
   "execution_count": 2,
   "metadata": {},
   "outputs": [
    {
     "name": "stdout",
     "output_type": "stream",
     "text": [
      "1.26.0\n"
     ]
    }
   ],
   "source": [
    "print(np.__version__)"
   ]
  },
  {
   "cell_type": "markdown",
   "metadata": {},
   "source": [
    "#### 3. Generate a 2x3x5 3-dimensional array with random values. Assign the array to variable *a*.\n",
    "**Challenge**: there are at least three easy ways that use numpy to generate random arrays. How many ways can you find?"
   ]
  },
  {
   "cell_type": "code",
   "execution_count": 3,
   "metadata": {},
   "outputs": [
    {
     "data": {
      "text/plain": [
       "array([[[0.42538098, 0.91355427, 0.49769343, 0.00113947, 0.45362558],\n",
       "        [0.374849  , 0.22039384, 0.32420277, 0.40209815, 0.00457696],\n",
       "        [0.59990096, 0.11554507, 0.23891063, 0.39275636, 0.05165018]],\n",
       "\n",
       "       [[0.61713838, 0.5818951 , 0.69715514, 0.42375469, 0.20838263],\n",
       "        [0.45106825, 0.98727795, 0.36349979, 0.30133636, 0.40670456],\n",
       "        [0.80487643, 0.44422773, 0.85674135, 0.35074498, 0.2889934 ]]])"
      ]
     },
     "execution_count": 3,
     "metadata": {},
     "output_type": "execute_result"
    }
   ],
   "source": [
    "a = np.random.rand(2, 3, 5)\n",
    "a"
   ]
  },
  {
   "cell_type": "code",
   "execution_count": 4,
   "metadata": {},
   "outputs": [
    {
     "data": {
      "text/plain": [
       "array([[[ 0.11210777,  0.40482194, -1.34638341,  0.70067714,\n",
       "         -0.77435014],\n",
       "        [-0.82164982, -0.7238277 , -0.82919145,  0.55185939,\n",
       "          0.92685593],\n",
       "        [-0.64223488, -0.69202881,  1.46698925,  1.08523594,\n",
       "          0.24115481]],\n",
       "\n",
       "       [[ 0.10208419,  1.56002601, -0.62430471,  0.97200257,\n",
       "         -0.0239892 ],\n",
       "        [-0.05269029,  0.52841336,  0.1974522 , -0.86809182,\n",
       "         -0.65288079],\n",
       "        [ 1.63873366,  0.75591913, -0.72700536, -0.15781762,\n",
       "          1.88665243]]])"
      ]
     },
     "execution_count": 4,
     "metadata": {},
     "output_type": "execute_result"
    }
   ],
   "source": [
    "a = np.random.randn(2, 3, 5)\n",
    "a"
   ]
  },
  {
   "cell_type": "code",
   "execution_count": 5,
   "metadata": {},
   "outputs": [
    {
     "data": {
      "text/plain": [
       "array([[[0.78665431, 0.34734724, 0.15774007, 0.70180843, 0.48575019],\n",
       "        [0.3024206 , 0.1384819 , 0.57096432, 0.54243629, 0.0145918 ],\n",
       "        [0.80534974, 0.75442826, 0.74808321, 0.0891374 , 0.71562082]],\n",
       "\n",
       "       [[0.8223302 , 0.1853505 , 0.79017289, 0.38864266, 0.51324632],\n",
       "        [0.8153979 , 0.72264411, 0.14112015, 0.33471904, 0.01339543],\n",
       "        [0.72774243, 0.5451924 , 0.87311747, 0.37821108, 0.10976842]]])"
      ]
     },
     "execution_count": 5,
     "metadata": {},
     "output_type": "execute_result"
    }
   ],
   "source": [
    "a = np.random.uniform(0, 1, (2, 3, 5))\n",
    "a"
   ]
  },
  {
   "cell_type": "markdown",
   "metadata": {},
   "source": [
    "#### 4. Print *a*.\n"
   ]
  },
  {
   "cell_type": "code",
   "execution_count": 6,
   "metadata": {},
   "outputs": [
    {
     "name": "stdout",
     "output_type": "stream",
     "text": [
      "[[[0.78665431 0.34734724 0.15774007 0.70180843 0.48575019]\n",
      "  [0.3024206  0.1384819  0.57096432 0.54243629 0.0145918 ]\n",
      "  [0.80534974 0.75442826 0.74808321 0.0891374  0.71562082]]\n",
      "\n",
      " [[0.8223302  0.1853505  0.79017289 0.38864266 0.51324632]\n",
      "  [0.8153979  0.72264411 0.14112015 0.33471904 0.01339543]\n",
      "  [0.72774243 0.5451924  0.87311747 0.37821108 0.10976842]]]\n"
     ]
    }
   ],
   "source": [
    "print(a)"
   ]
  },
  {
   "cell_type": "markdown",
   "metadata": {},
   "source": [
    "#### 5. Create a 5x2x3 3-dimensional array with all values equaling 1. Assign the array to variable *b*."
   ]
  },
  {
   "cell_type": "code",
   "execution_count": 7,
   "metadata": {},
   "outputs": [],
   "source": [
    "b = np.ones((5, 2, 3))"
   ]
  },
  {
   "cell_type": "markdown",
   "metadata": {},
   "source": [
    "#### 6. Print *b*.\n"
   ]
  },
  {
   "cell_type": "code",
   "execution_count": 8,
   "metadata": {},
   "outputs": [
    {
     "name": "stdout",
     "output_type": "stream",
     "text": [
      "[[[1. 1. 1.]\n",
      "  [1. 1. 1.]]\n",
      "\n",
      " [[1. 1. 1.]\n",
      "  [1. 1. 1.]]\n",
      "\n",
      " [[1. 1. 1.]\n",
      "  [1. 1. 1.]]\n",
      "\n",
      " [[1. 1. 1.]\n",
      "  [1. 1. 1.]]\n",
      "\n",
      " [[1. 1. 1.]\n",
      "  [1. 1. 1.]]]\n"
     ]
    }
   ],
   "source": [
    "print(b)"
   ]
  },
  {
   "cell_type": "markdown",
   "metadata": {},
   "source": [
    "#### 7. Do *a* and *b* have the same size? How do you prove that in Python code?"
   ]
  },
  {
   "cell_type": "code",
   "execution_count": 9,
   "metadata": {},
   "outputs": [
    {
     "name": "stdout",
     "output_type": "stream",
     "text": [
      "30\n",
      "30\n",
      "True\n"
     ]
    }
   ],
   "source": [
    "print(a.size)\n",
    "print(b.size)\n",
    "\n",
    "print(a.size == b.size)"
   ]
  },
  {
   "cell_type": "markdown",
   "metadata": {},
   "source": [
    "#### 8. Are you able to add *a* and *b*? Why or why not?\n"
   ]
  },
  {
   "cell_type": "code",
   "execution_count": 10,
   "metadata": {},
   "outputs": [
    {
     "name": "stdout",
     "output_type": "stream",
     "text": [
      "(2, 3, 5)\n",
      "(5, 2, 3)\n",
      "False\n"
     ]
    }
   ],
   "source": [
    "print(a.shape)\n",
    "print(b.shape)\n",
    "print(a.shape == b.shape)\n",
    "\n",
    "#No se pueden anadir porque tienen diferente forma como se aprecia en los prints"
   ]
  },
  {
   "cell_type": "markdown",
   "metadata": {},
   "source": [
    "#### 9. Transpose *b* so that it has the same structure of *a* (i.e. become a 2x3x5 array). Assign the transposed array to variable *c*."
   ]
  },
  {
   "cell_type": "code",
   "execution_count": 11,
   "metadata": {},
   "outputs": [
    {
     "name": "stdout",
     "output_type": "stream",
     "text": [
      "(2, 3, 5)\n",
      "(2, 3, 5)\n"
     ]
    }
   ],
   "source": [
    "c = np.transpose(b, (1, 2, 0))\n",
    "\n",
    "print(c.shape)\n",
    "print(a.shape)"
   ]
  },
  {
   "cell_type": "markdown",
   "metadata": {},
   "source": [
    "#### 10. Try to add *a* and *c*. Now it should work. Assign the sum to variable *d*. But why does it work now?"
   ]
  },
  {
   "cell_type": "code",
   "execution_count": 12,
   "metadata": {},
   "outputs": [],
   "source": [
    "d = a + c\n",
    "#tienen la misma shape, por eso ahora deja anadirlos"
   ]
  },
  {
   "cell_type": "markdown",
   "metadata": {},
   "source": [
    "#### 11. Print *a* and *d*. Notice the difference and relation of the two array in terms of the values? Explain."
   ]
  },
  {
   "cell_type": "code",
   "execution_count": 13,
   "metadata": {},
   "outputs": [
    {
     "name": "stdout",
     "output_type": "stream",
     "text": [
      "[[[1.78665431 1.34734724 1.15774007 1.70180843 1.48575019]\n",
      "  [1.3024206  1.1384819  1.57096432 1.54243629 1.0145918 ]\n",
      "  [1.80534974 1.75442826 1.74808321 1.0891374  1.71562082]]\n",
      "\n",
      " [[1.8223302  1.1853505  1.79017289 1.38864266 1.51324632]\n",
      "  [1.8153979  1.72264411 1.14112015 1.33471904 1.01339543]\n",
      "  [1.72774243 1.5451924  1.87311747 1.37821108 1.10976842]]]\n"
     ]
    }
   ],
   "source": [
    "print(d)"
   ]
  },
  {
   "cell_type": "markdown",
   "metadata": {},
   "source": [
    "#### 12. Multiply *a* and *c*. Assign the result to *e*."
   ]
  },
  {
   "cell_type": "code",
   "execution_count": 14,
   "metadata": {},
   "outputs": [
    {
     "name": "stdout",
     "output_type": "stream",
     "text": [
      "[[[0.78665431 0.34734724 0.15774007 0.70180843 0.48575019]\n",
      "  [0.3024206  0.1384819  0.57096432 0.54243629 0.0145918 ]\n",
      "  [0.80534974 0.75442826 0.74808321 0.0891374  0.71562082]]\n",
      "\n",
      " [[0.8223302  0.1853505  0.79017289 0.38864266 0.51324632]\n",
      "  [0.8153979  0.72264411 0.14112015 0.33471904 0.01339543]\n",
      "  [0.72774243 0.5451924  0.87311747 0.37821108 0.10976842]]]\n"
     ]
    }
   ],
   "source": [
    "e  = a * c\n",
    "print(e)"
   ]
  },
  {
   "cell_type": "markdown",
   "metadata": {},
   "source": [
    "#### 13. Does *e* equal to *a*? Why or why not?\n"
   ]
  },
  {
   "cell_type": "code",
   "execution_count": 15,
   "metadata": {},
   "outputs": [
    {
     "name": "stdout",
     "output_type": "stream",
     "text": [
      "[[[ True  True  True  True  True]\n",
      "  [ True  True  True  True  True]\n",
      "  [ True  True  True  True  True]]\n",
      "\n",
      " [[ True  True  True  True  True]\n",
      "  [ True  True  True  True  True]\n",
      "  [ True  True  True  True  True]]]\n"
     ]
    }
   ],
   "source": [
    "print(e == a)"
   ]
  },
  {
   "cell_type": "markdown",
   "metadata": {},
   "source": [
    "#### 14. Identify the max, min, and mean values in *d*. Assign those values to variables *d_max*, *d_min* and *d_mean*."
   ]
  },
  {
   "cell_type": "code",
   "execution_count": 16,
   "metadata": {},
   "outputs": [
    {
     "name": "stdout",
     "output_type": "stream",
     "text": [
      "1.8731174693855825\n",
      "1.013395428515686\n",
      "1.4840621858210785\n"
     ]
    }
   ],
   "source": [
    "d_max = np.max(d)\n",
    "d_min = np.min(d)\n",
    "d_mean = np.mean(d)\n",
    "\n",
    "print(d_max)\n",
    "print(d_min)\n",
    "print(d_mean)"
   ]
  },
  {
   "cell_type": "markdown",
   "metadata": {},
   "source": [
    "#### 15. Now we want to label the values in *d*. First create an empty array *f* with the same shape (i.e. 2x3x5) as *d* using `np.empty`.\n"
   ]
  },
  {
   "cell_type": "code",
   "execution_count": 17,
   "metadata": {},
   "outputs": [
    {
     "name": "stdout",
     "output_type": "stream",
     "text": [
      "[[[0. 0. 0. 0. 0.]\n",
      "  [0. 0. 0. 0. 0.]\n",
      "  [0. 0. 0. 0. 0.]]\n",
      "\n",
      " [[0. 0. 0. 0. 0.]\n",
      "  [0. 0. 0. 0. 0.]\n",
      "  [0. 0. 0. 0. 0.]]]\n"
     ]
    }
   ],
   "source": [
    "f = np.zeros_like(d)\n",
    "print(f)"
   ]
  },
  {
   "cell_type": "markdown",
   "metadata": {},
   "source": [
    "#### 16. Populate the values in *f*. \n",
    "\n",
    "For each value in *d*, if it's larger than *d_min* but smaller than *d_mean*, assign 25 to the corresponding value in *f*. If a value in *d* is larger than *d_mean* but smaller than *d_max*, assign 75 to the corresponding value in *f*. If a value equals to *d_mean*, assign 50 to the corresponding value in *f*. Assign 0 to the corresponding value(s) in *f* for *d_min* in *d*. Assign 100 to the corresponding value(s) in *f* for *d_max* in *d*. In the end, f should have only the following values: 0, 25, 50, 75, and 100.\n",
    "\n",
    "**Note**: you don't have to use Numpy in this question."
   ]
  },
  {
   "cell_type": "code",
   "execution_count": null,
   "metadata": {},
   "outputs": [],
   "source": [
    "\n",
    "\n",
    "  "
   ]
  },
  {
   "cell_type": "markdown",
   "metadata": {},
   "source": [
    "#### 17. Print *d* and *f*. Do you have your expected *f*?\n",
    "For instance, if your *d* is:\n",
    "```python\n",
    "[[[1.85836099, 1.67064465, 1.62576044, 1.40243961, 1.88454931],\n",
    "[1.75354326, 1.69403643, 1.36729252, 1.61415071, 1.12104981],\n",
    "[1.72201435, 1.1862918 , 1.87078449, 1.7726778 , 1.88180042]],\n",
    "[[1.44747908, 1.31673383, 1.02000951, 1.52218947, 1.97066381],\n",
    "[1.79129243, 1.74983003, 1.96028037, 1.85166831, 1.65450881],\n",
    "[1.18068344, 1.9587381 , 1.00656599, 1.93402165, 1.73514584]]]\n",
    "```\n",
    "Your *f* should be:\n",
    "```python\n",
    "[[[ 75.,  75.,  75.,  25.,  75.],\n",
    "[ 75.,  75.,  25.,  25.,  25.],\n",
    "[ 75.,  25.,  75.,  75.,  75.]],\n",
    "[[ 25.,  25.,  25.,  25., 100.],\n",
    "[ 75.,  75.,  75.,  75.,  75.],\n",
    "[ 25.,  75.,   0.,  75.,  75.]]]\n",
    "```"
   ]
  },
  {
   "cell_type": "code",
   "execution_count": 18,
   "metadata": {},
   "outputs": [],
   "source": [
    "# your code here"
   ]
  },
  {
   "cell_type": "markdown",
   "metadata": {},
   "source": [
    "#### 18. Bonus question: instead of using numbers (i.e. 0, 25, 50, 75, and 100), use string values  (\"A\", \"B\", \"C\", \"D\", and \"E\") to label the array elements. For the example above, the expected result is:\n",
    "\n",
    "```python\n",
    "[[[ 'D',  'D',  'D',  'B',  'D'],\n",
    "[ 'D',  'D',  'B',  'B',  'B'],\n",
    "[ 'D',  'B',  'D',  'D',  'D']],\n",
    "[[ 'B',  'B',  'B',  'B',  'E'],\n",
    "[ 'D',  'D',  'D',  'D',  'D'],\n",
    "[ 'B',  'D',   'A',  'D', 'D']]]\n",
    "```\n",
    "**Note**: you don't have to use Numpy in this question."
   ]
  },
  {
   "cell_type": "code",
   "execution_count": 19,
   "metadata": {},
   "outputs": [],
   "source": [
    "### PRACTICA IGNORAR TODAS LAS LINEAS DE CODIGO DE ABAJO"
   ]
  },
  {
   "cell_type": "code",
   "execution_count": 22,
   "metadata": {},
   "outputs": [],
   "source": [
    "a = np.random.random((10,4))"
   ]
  },
  {
   "cell_type": "code",
   "execution_count": 41,
   "metadata": {},
   "outputs": [
    {
     "name": "stdout",
     "output_type": "stream",
     "text": [
      "(10, 4)\n"
     ]
    }
   ],
   "source": [
    "print(a.shape)"
   ]
  },
  {
   "cell_type": "code",
   "execution_count": 46,
   "metadata": {},
   "outputs": [
    {
     "name": "stdout",
     "output_type": "stream",
     "text": [
      "[[0.33285968 0.43261345 0.90729416 0.81854589]\n",
      " [0.36305055 0.31840694 0.29527989 0.72559307]\n",
      " [0.82481868 0.86576394 0.33390758 0.52670216]\n",
      " [0.20721766 0.84847237 0.90122819 0.75453557]\n",
      " [0.58852583 0.58757266 0.96155611 0.16620066]\n",
      " [0.33768244 0.13235482 0.45014434 0.09438412]\n",
      " [0.81304551 0.46467946 0.04779164 0.61561988]\n",
      " [0.78845214 0.63570037 0.5331807  0.54278268]\n",
      " [0.55132139 0.80199501 0.45149361 0.62217854]\n",
      " [0.92043216 0.69834534 0.00664234 0.30332471]]\n"
     ]
    }
   ],
   "source": [
    "print(a)"
   ]
  },
  {
   "cell_type": "code",
   "execution_count": 57,
   "metadata": {},
   "outputs": [
    {
     "name": "stdout",
     "output_type": "stream",
     "text": [
      "[[0.55132139 0.80199501 0.45149361 0.62217854]\n",
      " [0.92043216 0.69834534 0.00664234 0.30332471]]\n"
     ]
    }
   ],
   "source": [
    "print(a[-2:])"
   ]
  },
  {
   "cell_type": "code",
   "execution_count": 48,
   "metadata": {},
   "outputs": [
    {
     "name": "stdout",
     "output_type": "stream",
     "text": [
      "[0.33285968 0.36305055 0.82481868 0.20721766 0.58852583 0.33768244\n",
      " 0.81304551 0.78845214 0.55132139 0.92043216]\n"
     ]
    }
   ],
   "source": [
    "print(a[:,0])"
   ]
  },
  {
   "cell_type": "code",
   "execution_count": 59,
   "metadata": {},
   "outputs": [
    {
     "name": "stdout",
     "output_type": "stream",
     "text": [
      "0.9072941595202363\n"
     ]
    }
   ],
   "source": [
    "print(a[0,2])"
   ]
  },
  {
   "cell_type": "code",
   "execution_count": 76,
   "metadata": {},
   "outputs": [
    {
     "name": "stdout",
     "output_type": "stream",
     "text": [
      "[[[[0.35124025 0.15657858 0.57355357 0.0474812  0.87936727]\n",
      "   [0.3062465  0.41333853 0.8662792  0.11800984 0.66870076]\n",
      "   [0.60196918 0.71704215 0.8225005  0.45571978 0.93673014]\n",
      "   [0.61822798 0.97125094 0.53662053 0.35750634 0.26795354]]\n",
      "\n",
      "  [[0.04144874 0.37258784 0.2568505  0.77939781 0.77129131]\n",
      "   [0.21505973 0.41499687 0.5634833  0.16064328 0.20096361]\n",
      "   [0.93097989 0.77072144 0.40280451 0.28240072 0.26342487]\n",
      "   [0.19063118 0.32746181 0.40420232 0.61750455 0.06023746]]\n",
      "\n",
      "  [[0.38047136 0.73557757 0.55843239 0.80926021 0.35156055]\n",
      "   [0.66907806 0.06177568 0.27114527 0.02146717 0.52394046]\n",
      "   [0.11576378 0.87629986 0.39924315 0.6728211  0.95296822]\n",
      "   [0.57272597 0.85859104 0.81275321 0.49002515 0.21745851]]]\n",
      "\n",
      "\n",
      " [[[0.1639135  0.2417508  0.68569163 0.19513501 0.78729602]\n",
      "   [0.14396071 0.16224584 0.23974072 0.35384    0.75291411]\n",
      "   [0.96485431 0.00478063 0.16432777 0.89507307 0.64620017]\n",
      "   [0.95623013 0.41901309 0.96468813 0.6892071  0.90878679]]\n",
      "\n",
      "  [[0.81894643 0.29380617 0.14890286 0.88076922 0.61505202]\n",
      "   [0.846749   0.08542055 0.05962363 0.24261035 0.92292227]\n",
      "   [0.8830596  0.95108894 0.12665545 0.26227586 0.6851722 ]\n",
      "   [0.24851688 0.79580641 0.77230386 0.65163373 0.97194737]]\n",
      "\n",
      "  [[0.10968427 0.23194133 0.8439461  0.22832275 0.43526935]\n",
      "   [0.27151861 0.49799893 0.17317871 0.43619771 0.51519497]\n",
      "   [0.00667438 0.76535319 0.29524666 0.60782531 0.30913529]\n",
      "   [0.48350316 0.53519643 0.95562601 0.41467314 0.47351087]]]]\n"
     ]
    }
   ],
   "source": [
    "c = np.random.random((2,3,4,5))\n",
    "print(c)"
   ]
  },
  {
   "cell_type": "code",
   "execution_count": 82,
   "metadata": {},
   "outputs": [
    {
     "name": "stdout",
     "output_type": "stream",
     "text": [
      "[[0.04144874 0.37258784 0.2568505  0.77939781 0.77129131]\n",
      " [0.21505973 0.41499687 0.5634833  0.16064328 0.20096361]\n",
      " [0.93097989 0.77072144 0.40280451 0.28240072 0.26342487]\n",
      " [0.19063118 0.32746181 0.40420232 0.61750455 0.06023746]]\n"
     ]
    }
   ],
   "source": [
    "print(c[0,1])"
   ]
  },
  {
   "cell_type": "code",
   "execution_count": 83,
   "metadata": {},
   "outputs": [
    {
     "name": "stdout",
     "output_type": "stream",
     "text": [
      "[0.77939781 0.16064328 0.28240072 0.61750455]\n"
     ]
    }
   ],
   "source": [
    "print(c[0,1,:,3])"
   ]
  },
  {
   "cell_type": "code",
   "execution_count": 84,
   "metadata": {},
   "outputs": [
    {
     "name": "stdout",
     "output_type": "stream",
     "text": [
      "0.28240071668932\n"
     ]
    }
   ],
   "source": [
    "print(c[0,1,2,3])"
   ]
  },
  {
   "cell_type": "code",
   "execution_count": 86,
   "metadata": {},
   "outputs": [
    {
     "name": "stdout",
     "output_type": "stream",
     "text": [
      "[1.37811954 1.88576796 1.62734062 1.83994636 1.29591725]\n"
     ]
    }
   ],
   "source": [
    "print(np.sum(c[0,1], axis=0))"
   ]
  },
  {
   "cell_type": "code",
   "execution_count": 94,
   "metadata": {},
   "outputs": [
    {
     "name": "stdout",
     "output_type": "stream",
     "text": [
      "24.13279659030717\n"
     ]
    }
   ],
   "source": [
    "print(np.sum(b[:2]))"
   ]
  },
  {
   "cell_type": "code",
   "execution_count": 91,
   "metadata": {},
   "outputs": [
    {
     "name": "stdout",
     "output_type": "stream",
     "text": [
      "[[[[0.94422368 0.68039048]\n",
      "   [0.33240282 0.41889081]\n",
      "   [0.18940237 0.95680434]\n",
      "   [0.55911262 0.87797198]]\n",
      "\n",
      "  [[0.76302481 0.50666447]\n",
      "   [0.57327801 0.17436733]\n",
      "   [0.4967622  0.27608575]\n",
      "   [0.81095156 0.42672736]]\n",
      "\n",
      "  [[0.4646222  0.78072231]\n",
      "   [0.21976757 0.28906549]\n",
      "   [0.21716895 0.25527198]\n",
      "   [0.07592486 0.2881409 ]]]\n",
      "\n",
      "\n",
      " [[[0.42639253 0.99279589]\n",
      "   [0.18221522 0.94588028]\n",
      "   [0.88160274 0.34086896]\n",
      "   [0.81648031 0.84585087]]\n",
      "\n",
      "  [[0.71679034 0.53956003]\n",
      "   [0.05378007 0.41033883]\n",
      "   [0.71498884 0.21038149]\n",
      "   [0.17036136 0.64537049]]\n",
      "\n",
      "  [[0.1008939  0.46348077]\n",
      "   [0.10205794 0.49737115]\n",
      "   [0.99942559 0.72244823]\n",
      "   [0.44716811 0.32854779]]]]\n"
     ]
    }
   ],
   "source": [
    "print(b)"
   ]
  },
  {
   "cell_type": "code",
   "execution_count": null,
   "metadata": {},
   "outputs": [],
   "source": []
  }
 ],
 "metadata": {
  "kernelspec": {
   "display_name": "Python (m1_env)",
   "language": "python",
   "name": "m1_env"
  },
  "language_info": {
   "codemirror_mode": {
    "name": "ipython",
    "version": 3
   },
   "file_extension": ".py",
   "mimetype": "text/x-python",
   "name": "python",
   "nbconvert_exporter": "python",
   "pygments_lexer": "ipython3",
   "version": "3.10.13"
  }
 },
 "nbformat": 4,
 "nbformat_minor": 2
}
